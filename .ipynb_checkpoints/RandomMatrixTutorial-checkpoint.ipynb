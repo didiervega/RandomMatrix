{
 "cells": [
  {
   "cell_type": "markdown",
   "metadata": {},
   "source": [
    "# RandomMatrix: How to use"
   ]
  },
  {
   "cell_type": "code",
   "execution_count": 83,
   "metadata": {},
   "outputs": [
    {
     "data": {
      "text/html": [
       "<script type=\"text/javascript\">window.PlotlyConfig = {MathJaxConfig: 'local'};</script><script type=\"text/javascript\">if (window.MathJax) {MathJax.Hub.Config({SVG: {font: \"STIX-Web\"}});}</script><script>requirejs.config({paths: { 'plotly': ['https://cdn.plot.ly/plotly-latest.min']},});if(!window._Plotly) {require(['plotly'],function(plotly) {window._Plotly=plotly;});}</script>"
      ],
      "text/vnd.plotly.v1+html": [
       "<script type=\"text/javascript\">window.PlotlyConfig = {MathJaxConfig: 'local'};</script><script type=\"text/javascript\">if (window.MathJax) {MathJax.Hub.Config({SVG: {font: \"STIX-Web\"}});}</script><script>requirejs.config({paths: { 'plotly': ['https://cdn.plot.ly/plotly-latest.min']},});if(!window._Plotly) {require(['plotly'],function(plotly) {window._Plotly=plotly;});}</script>"
      ]
     },
     "metadata": {},
     "output_type": "display_data"
    }
   ],
   "source": [
    "%matplotlib inline\n",
    "#from mlab.releases import latest_release as matlab\n",
    "import matplotlib\n",
    "import numpy as np\n",
    "import matplotlib.image as mpimg\n",
    "import matplotlib.pyplot as plt\n",
    "\n",
    "from plotly.offline import download_plotlyjs, init_notebook_mode, iplot\n",
    "init_notebook_mode(True)\n",
    "import plotly.graph_objs as go\n",
    "from IPython.display import Image\n",
    "\n",
    "%reload_ext autoreload\n",
    "%autoreload 1\n",
    "%aimport util\n"
   ]
  },
  {
   "cell_type": "markdown",
   "metadata": {},
   "source": [
    "This is a notebook example of how to use the RandomMatrix code for multifractality in complex networks. The code is developed in MATLAB, and some toolboxes are necessary to run the commands. \n",
    "\n"
   ]
  },
  {
   "cell_type": "markdown",
   "metadata": {},
   "source": [
    "This is a Python interface for illustrative purpose of using and calling the commands\n",
    "You run the MATLAB functions in bash/shell prompt as follow:\n",
    "\n",
    "\n",
    "    matlab -nodisplay -nodesktop -nosplash -r \"try; yourMATLABFunction(your parameters); catch; end; quit\" \n",
    "\n",
    "Note: `matlab` is the environment variable in your system that calls the MATLAB program. Here, because of the Python interface, we prefix the command `%system`. But, do not need it if you run directly in the shell.\n",
    "\n"
   ]
  },
  {
   "cell_type": "markdown",
   "metadata": {},
   "source": [
    "### Functions"
   ]
  },
  {
   "cell_type": "markdown",
   "metadata": {},
   "source": [
    "The `getEtaUGraph` functions shows the relative fluctations of the participation numbers as a function of \\mu given the parameters\n",
    "\n",
    "[PointsVar] = getEtaUGraph(Q,B,U,Ns,a)\n"
   ]
  },
  {
   "cell_type": "code",
   "execution_count": null,
   "metadata": {},
   "outputs": [],
   "source": [
    "# Q: is for a specific q value\n",
    "# B: the specific band\n",
    "# U: the set of evaluation points for the participation numbers (x-axis)\n",
    "# Ns: this is the vector of expoente network size, in the form 2^Ns[i]\n",
    "# A: this is the sparcity parameter of the Power-Law Banded Random Matrix (PBRM) model."
   ]
  },
  {
   "cell_type": "markdown",
   "metadata": {},
   "source": [
    "##### Example of how to call the getEtaUGraph function"
   ]
  },
  {
   "cell_type": "code",
   "execution_count": 85,
   "metadata": {},
   "outputs": [
    {
     "data": {
      "text/html": [
       "<img src=\"sBaFigure.png\"/>"
      ],
      "text/plain": [
       "<IPython.core.display.Image object>"
      ]
     },
     "execution_count": 85,
     "metadata": {},
     "output_type": "execute_result"
    }
   ],
   "source": [
    "%system matlab -nodisplay -nodesktop -nosplash -r \"try; RandomMatrix.getEtaUGraph([2],[1],[0.6, 0.9, 1.0, 1.1],[6,7,8,9],1.0); catch; end; quit\"\n",
    "\n",
    "#It presents the curves of \\eta vs \\mu for the dPBRM model with sparsity values \\alpha = 1 (no sparsity). \n",
    "#The critical point is when the lines intercept.  \n",
    "#Remember, the `%system` command is only for the purpose of running here in this notebook.\n",
    "\n",
    "#just for visualizing the image here\n",
    "Image(url = 'sBaFigure.png')\n",
    "\n"
   ]
  },
  {
   "cell_type": "markdown",
   "metadata": {},
   "source": [
    "The next function calculates the fractal dimensions of our studied model (dPBRM) and prints the figure, i.e, the signature of the multifractality of eigenfunctions of our network model.\n",
    "\n"
   ]
  },
  {
   "cell_type": "markdown",
   "metadata": {},
   "source": [
    "[Data, eData] = getDqAlphaGraphMAT(Q,B,u,Ns,A)"
   ]
  },
  {
   "cell_type": "code",
   "execution_count": 2,
   "metadata": {},
   "outputs": [],
   "source": [
    "# Q: is a vector of all the points (y-axis Figure XX of the paper)\n",
    "# B: this is a vector for all the band values to be calculated\n",
    "# u: it is the critical point u_c\n",
    "# Ns: this is the vector of expoente network size, in the form 2^Ns[i]\n",
    "# A: this is the sparcity parameter of the Power-Law Banded Random Matrix (PBRM) model."
   ]
  },
  {
   "cell_type": "markdown",
   "metadata": {},
   "source": [
    "##### Example of how to call the getDqAlphaGraphMAT function"
   ]
  },
  {
   "cell_type": "code",
   "execution_count": 82,
   "metadata": {},
   "outputs": [
    {
     "data": {
      "text/html": [
       "<img src=\"DqVSq.png\"/>"
      ],
      "text/plain": [
       "<IPython.core.display.Image object>"
      ]
     },
     "execution_count": 82,
     "metadata": {},
     "output_type": "execute_result"
    }
   ],
   "source": [
    "%system matlab -nodisplay -nodesktop -nosplash -r \"try; RandomMatrix.getDqAlphaGraphMAT([0.5,1,1.5,2,3,4,5],[1],1,[6,7,8,9],[0.3,1.0]); catch; end; quit\"\n",
    "\n",
    "#It creates a figure that shows the multifractal dimensions Dq vs q for our model. (It will take a while)\n",
    "#Remember, the `%system` command is only for the purpose of running here in this notebook.\n",
    "\n",
    "#just for visualizing the image here\n",
    "Image(url = 'DqVSq.png')\n",
    "\n"
   ]
  },
  {
   "cell_type": "markdown",
   "metadata": {},
   "source": [
    "![DqVSq.png](attachment:DqVSq.png)\n"
   ]
  }
 ],
 "metadata": {
  "kernelspec": {
   "display_name": "Python 3",
   "language": "python",
   "name": "python3"
  },
  "language_info": {
   "codemirror_mode": {
    "name": "ipython",
    "version": 3
   },
   "file_extension": ".py",
   "mimetype": "text/x-python",
   "name": "python",
   "nbconvert_exporter": "python",
   "pygments_lexer": "ipython3",
   "version": "3.6.4"
  }
 },
 "nbformat": 4,
 "nbformat_minor": 2
}
